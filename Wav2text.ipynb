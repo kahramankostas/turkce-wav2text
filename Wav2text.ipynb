{
 "cells": [
  {
   "cell_type": "markdown",
   "metadata": {},
   "source": [
    "### Bu kısa kod vereceğiniz klasör içersindeki wav dosyalarını aynı klasör içerinde ve aynı isimde txt dosyalarına çevirir. google API kullanıldığı için çalışma sırasında internet bağlantınızın olması gerekir"
   ]
  },
  {
   "cell_type": "markdown",
   "metadata": {},
   "source": [
    "## Gerekli modüllerin alınması.\n",
    "### SpeechRecognition modülü yoksa kurulumu yapar."
   ]
  },
  {
   "cell_type": "code",
   "execution_count": 1,
   "metadata": {},
   "outputs": [],
   "source": [
    "!pip3 install SpeechRecognition\n",
    "import speech_recognition as sr\n",
    "import os"
   ]
  },
  {
   "cell_type": "markdown",
   "metadata": {},
   "source": [
    "### wav dosyalarını içeren klasörünüzün ismini yazın - python/jupyter dosyası ile aynı klasör içerisinde olmalı"
   ]
  },
  {
   "cell_type": "code",
   "execution_count": 2,
   "metadata": {},
   "outputs": [],
   "source": [
    "klasor=\"sesler\""
   ]
  },
  {
   "cell_type": "markdown",
   "metadata": {},
   "source": [
    "### Bu fonksiyon klasör içersindeki wav dosyalarını bulur ve listeler"
   ]
  },
  {
   "cell_type": "code",
   "execution_count": 3,
   "metadata": {},
   "outputs": [
    {
     "data": {
      "text/plain": [
       "['./sesler\\\\3.wav']"
      ]
     },
     "execution_count": 3,
     "metadata": {},
     "output_type": "execute_result"
    }
   ],
   "source": [
    "def dosya_bul(yol,dosya_uzantisi):\n",
    "    dosya_listesi = []\n",
    "    for r, d, f in os.walk(yol):\n",
    "        for dosya in f:\n",
    "            if dosya_uzantisi in dosya:\n",
    "                dosya_listesi.append(os.path.join(r, dosya))  \n",
    "    return dosya_listesi\n",
    "dosya_listesi=dosya_bul(\"./\"+klasor,'.wav')\n",
    "dosya_listesi"
   ]
  },
  {
   "cell_type": "markdown",
   "metadata": {},
   "source": [
    "## Tüm wav dosyalarını txt dosyasına çevirerek kaydeder."
   ]
  },
  {
   "cell_type": "code",
   "execution_count": 4,
   "metadata": {},
   "outputs": [
    {
     "name": "stdout",
     "output_type": "stream",
     "text": [
      "./sesler\\3.wav : Bir berber bir berbere gel 1'e birader Berberistan'da bir berber dükkanı açalım demiş\n"
     ]
    }
   ],
   "source": [
    "for dosya in dosya_listesi:\n",
    "    r = sr.Recognizer()\n",
    "    islem_goren=sr.AudioFile(dosya)\n",
    "    with islem_goren as kaynak:\n",
    "        ses_kaydi = r.record(kaynak)\n",
    "    try:\n",
    "        metin = r.recognize_google(ses_kaydi, language='tr-tr')#,enable_word_time_offsets=True)#,\"enableWordTimeOffsets\": true)\n",
    "        print(dosya,\":\",metin)\n",
    "        ths = open(str(dosya[:-4])+\".txt\", \"w\", encoding=\"utf-8\")\n",
    "        ths.write(metin)\n",
    "        ths.close()\n",
    "        \n",
    "    except Exception as e:\n",
    "        print(\"HATA!!!: \"+str(e))"
   ]
  }
 ],
 "metadata": {
  "kernelspec": {
   "display_name": "Python 3",
   "language": "python",
   "name": "python3"
  },
  "language_info": {
   "codemirror_mode": {
    "name": "ipython",
    "version": 3
   },
   "file_extension": ".py",
   "mimetype": "text/x-python",
   "name": "python",
   "nbconvert_exporter": "python",
   "pygments_lexer": "ipython3",
   "version": "3.6.5"
  }
 },
 "nbformat": 4,
 "nbformat_minor": 2
}
